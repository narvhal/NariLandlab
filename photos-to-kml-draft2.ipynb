{
 "cells": [
  {
   "cell_type": "code",
   "execution_count": 4,
   "metadata": {
    "collapsed": false,
    "deletable": true,
    "editable": true
   },
   "outputs": [
    {
     "data": {
      "text/plain": [
       "u\"Reads the EXIF headers from geo-tagged photos. and creates a KML file.\\nReads the EXIF headers from geo-tagged photos and creates a KML file with\\na PhotoOverlay element for each file. Requires the open source EXIF.py file\\ndownloadable at:\\nhttp://sourceforge.net/projects/exif-py/\\n   GetFile(): Handles the opening of an individual file.\\n  GetHeaders(): Reads the headers from the file.\\n  DmsToDecimal(): Converts EXIF GPS headers data to a decimal degree.\\n  GetGps(): Parses out the the GPS headers from the headers data.\\n  CreateKmlDoc(): Creates an XML document object to represent the KML document.\\n  CreatePhotoOverlay: Creates an individual PhotoOverlay XML element object.\\n  CreateKmlFile(): Creates and writes out a KML document to file.\\n\\n  __author__ = 'mmarks@google.com (Mano Marks)'\\n\\n\""
      ]
     },
     "execution_count": 4,
     "metadata": {},
     "output_type": "execute_result"
    }
   ],
   "source": [
    "import exifread as EXIF\n",
    "import os\n",
    "import sys\n",
    "from pykml.factory import KML_ElementMaker as KML\n",
    "from lxml import etree\n",
    "\n",
    "#Modified from https://developers.google.com/kml/articles/geotagsimple\n",
    "\n",
    "#Still need to test on actually geotagged photos\n",
    "# ipad photos apparently need to be exported from iPhoto (only on Mac) and then checked to export geotags too. Otherwise they're stripped. \n",
    "\n",
    "# Do the following for each\n",
    "# Append to .kml file \n",
    "#\n",
    "# Copyright 2008 Google Inc. All Rights Reserved.\n",
    "u\"\"\"Reads the EXIF headers from geo-tagged photos. and creates a KML file.\n",
    "Reads the EXIF headers from geo-tagged photos and creates a KML file with\n",
    "a PhotoOverlay element for each file. Requires the open source EXIF.py file\n",
    "downloadable at:\n",
    "http://sourceforge.net/projects/exif-py/\n",
    "   GetFile(): Handles the opening of an individual file.\n",
    "  GetHeaders(): Reads the headers from the file.\n",
    "  DmsToDecimal(): Converts EXIF GPS headers data to a decimal degree.\n",
    "  GetGps(): Parses out the the GPS headers from the headers data.\n",
    "  CreateKmlDoc(): Creates an XML document object to represent the KML document.\n",
    "  CreatePhotoOverlay: Creates an individual PhotoOverlay XML element object.\n",
    "  CreateKmlFile(): Creates and writes out a KML document to file.\n",
    "\n",
    "  __author__ = 'mmarks@google.com (Mano Marks)'\n",
    "\n",
    "\"\"\""
   ]
  },
  {
   "cell_type": "code",
   "execution_count": 13,
   "metadata": {
    "collapsed": false,
    "deletable": true,
    "editable": true
   },
   "outputs": [],
   "source": [
    "def GetFile(file_name):\n",
    "    \"\"\"Handles opening the file.\n",
    "    Args:\n",
    "    file_name: the name of the file to get\n",
    "    Returns:\n",
    "    A file\n",
    "    \"\"\"\n",
    "\n",
    "    the_file = None\n",
    "    try:\n",
    "        the_file = open(file_name, 'rb')\n",
    "    except IOError:\n",
    "        the_file = None\n",
    "    return the_file\n",
    "\n",
    "\n",
    "\n",
    "def GetHeaders(the_file):\n",
    "    \"\"\"Handles getting the EXIF headers and returns them as a dict.\n",
    "    Args:\n",
    "    the_file: A file object\n",
    "    Returns:\n",
    "    a dict mapping keys corresponding to the EXIF headers of a file.\n",
    "    \"\"\"\n",
    "    data = EXIF.process_file(the_file)  # , 'UNDEF', False, False, False\n",
    "    return data\n",
    "\n",
    "\n",
    "\n",
    "def DmsToDecimal(degree_num, degree_den, minute_num, minute_den,\n",
    "                 second_num, second_den):\n",
    "    \"\"\"Converts the Degree/Minute/Second formatted GPS data to decimal degrees.\n",
    "    Args:\n",
    "    degree_num: The numerator of the degree object.\n",
    "    degree_den: The denominator of the degree object.\n",
    "    minute_num: The numerator of the minute object.\n",
    "    minute_den: The denominator of the minute object.\n",
    "    second_num: The numerator of the second object.\n",
    "    second_den: The denominator of the second object.\n",
    "    Returns:\n",
    "    A deciminal degree.\n",
    "    \"\"\"\n",
    "    degree = float(degree_num)/float(degree_den)\n",
    "    minute = float(minute_num)/float(minute_den)/60\n",
    "    second = float(second_num)/float(second_den)/3600\n",
    "    return degree + minute + second\n",
    "\n",
    "def GetGps(data):\n",
    "    \"\"\"Parses out the GPS coordinates from the file.\n",
    "    Args:\n",
    "    data: A dict object representing the EXIF headers of the photo.\n",
    "    Returns:\n",
    "    A tuple representing the latitude, longitude, and altitude of the photo.\n",
    "    \"\"\"\n",
    "    lat_dms = data['GPS GPSLatitude'].values\n",
    "    long_dms = data['GPS GPSLongitude'].values\n",
    "    latitude = DmsToDecimal(lat_dms[0].num, lat_dms[0].den,\n",
    "                            lat_dms[1].num, lat_dms[1].den,\n",
    "                            lat_dms[2].num, lat_dms[2].den)\n",
    "\n",
    "    longitude = DmsToDecimal(long_dms[0].num, long_dms[0].den,\n",
    "                            long_dms[1].num, long_dms[1].den,\n",
    "                            long_dms[2].num, long_dms[2].den)\n",
    "    # Error here handled earlier, in main loop\n",
    "    if data['GPS GPSLatitudeRef'].printable == 'S': latitude *= -1\n",
    "    if data['GPS GPSLongitudeRef'].printable == 'W': longitude *= -1\n",
    "    altitude = None\n",
    "    try:\n",
    "        alt = data['GPS GPSAltitude'].values[0]\n",
    "        altitude = alt.num/alt.den\n",
    "        if data['GPS GPSAltitudeRef'] == 1: altitude *= -1\n",
    "    except KeyError:\n",
    "        altitude = 0\n",
    "    return latitude, longitude, altitude"
   ]
  },
  {
   "cell_type": "code",
   "execution_count": 14,
   "metadata": {
    "collapsed": true,
    "deletable": true,
    "editable": true
   },
   "outputs": [],
   "source": [
    "##Make KML with pykml using https://pythonhosted.org/pykml/examples/kml_reference_examples.html\n",
    "def CreateKmlDoc(kmlname, usr_desc):\n",
    "    kml_kml = KML.kml()\n",
    "\n",
    "    kml_doc = KML.Document(\n",
    "        KML.name(kmlname),\n",
    "        KML.description(usr_desc)\n",
    "        )\n",
    "    return kml_kml, kml_doc\n",
    "    \n",
    "def CreatePhotoOverlay(kml_doc, file_name, the_file, file_iterator):\n",
    "    photo_id = 'photo{}'.format(file_iterator)\n",
    "    data = GetHeaders(the_file)\n",
    "\n",
    "    coords = GetGps(data)\n",
    "    \n",
    "    # Determines the proportions of the image and uses them to set FOV.\n",
    "    width = float(data['EXIF ExifImageWidth'].printable)\n",
    "    length = float(data['EXIF ExifImageLength'].printable)\n",
    "    lf = str(width/length * -20.0)\n",
    "    rf = str(width/length * 20.0)\n",
    "    \n",
    "    PO = KML.PhotoOverlay(\n",
    "        KML.name(file_name),\n",
    "        KML.id(photo_id),\n",
    "        KML.Camera(\n",
    "            KML.longitude(coords[1]),\n",
    "            KML.latitude(coords[0]),\n",
    "            KML.altitude(10),\n",
    "            KML.tilt(90)\n",
    "            ),\n",
    "        KML.styleUrl('camera'),\n",
    "        KML.Icon(\n",
    "            KML.href(file_name)    #usr_path + '\\\\'+ file_name\n",
    "        ),\n",
    "        KML.ViewVolume(\n",
    "            KML.near(50),\n",
    "            KML.leftFov(lf),\n",
    "            KML.rightFov(rf),\n",
    "            KML.bottomFov(-20),\n",
    "            KML.topFov(20)\n",
    "        ),\n",
    "        KML.Point(\n",
    "            KML.coordinates('{},{},{}'.format(coords[1], coords[0], coords[2]))\n",
    "        )\n",
    "    )\n",
    "    \n",
    "    kml_doc.append(PO)"
   ]
  },
  {
   "cell_type": "code",
   "execution_count": 21,
   "metadata": {
    "collapsed": false,
    "deletable": true,
    "editable": true
   },
   "outputs": [
    {
     "name": "stdout",
     "output_type": "stream",
     "text": [
      "Enter directory path:C:\\Users\\nvmille1\\OneDrive\\Research\\Landuse\\Field_2016\\July_21\n",
      ".JPG\n",
      ".JPG\n",
      ".JPG\n",
      ".JPG\n",
      "[] Profile_1\n"
     ]
    }
   ],
   "source": [
    "# Read files in directory\n",
    "# Input necessary (usrcode == 1), input hardcoded (Adv Geomorph) (2)\n",
    "usrcode = 1\n",
    "\n",
    "if usrcode ==1: \n",
    "    usr_path = raw_input(\"Enter directory path:\")\n",
    "    the_file = str(usr_path)\n",
    "else: \n",
    "    usr_path = 'C:\\Users\\\\nariv\\OneDrive\\Research\\Landuse\\Code\\Photos_to_KML\\AdvGeomorphFieldTrip'\n",
    "    usr_desc = u'Adv Geomorph 2017 visits Seneca Falls, \\n \\\n",
    "                the Salt River, \\n \\\n",
    "                Rim gravels preserved beneath basalt flows, exposed in roadcut \\n \\\n",
    "                Whiteriver, more basalts (some on hilltops, some in the valley) preserving Rim Gravels \\n \\\n",
    "                Pinetop (dinner), \\n \\\n",
    "                the 260 Overlook from the Rim -- Main question: Is the topographic relief due to erosion, or tectonics? \\n \\\n",
    "                Bear Flat Road and Tonto Creek -- investigating the knickpoint in the Tonto Creek, and the low-relief terrain transitioning to a canyon, \\n \\\n",
    "                more gravels (sandier) between Pine and Payson - younger gravels with dominant flow direction to the East, topped by basalt, \\n \\\n",
    "                overlook of the Rye Valley - multiple stages of filling and emptying the basin-and-range topography \\\n",
    "                in the relatively tectonically quiet times the past ~5Ma,\\n \\\n",
    "                and a roadcut of an andesite flow (~23 Ma) topped by cobbles and valley fill.'        \n",
    "\n",
    "photo_counter = 0\n",
    "filenames = []\n",
    "\n",
    "for root, dirs, files in os.walk(usr_path):\n",
    "    for f in files:\n",
    "        extension = os.path.splitext(f)[1]\n",
    "        print extension\n",
    "        if extension == '.png' or extension == '.jpg':\n",
    "            filenames.append(f)\n",
    "    kmlname = root.split('\\\\')[-1]\n",
    "    fullkmlname = '{}\\{}.kml'.format(root,kmlname)\n",
    "print filenames, kmlname"
   ]
  },
  {
   "cell_type": "code",
   "execution_count": 16,
   "metadata": {
    "collapsed": false,
    "deletable": true,
    "editable": true
   },
   "outputs": [
    {
     "name": "stdout",
     "output_type": "stream",
     "text": [
      "'8ACE7B73EC7B3C51BD24667A2A80BE66.pdf' has no GPS GPSLatitudeRef\n",
      "'Additional Notes.docx' has no GPS GPSLatitudeRef\n",
      "'ArcMMTpts-test.xlsx' has no GPS GPSLatitudeRef\n",
      "'Field_2016_SampleSheet.xlsx' has no GPS GPSLatitudeRef\n"
     ]
    },
    {
     "ename": "KeyError",
     "evalue": "'GPS GPSLatitude'",
     "output_type": "error",
     "traceback": [
      "\u001b[1;31m---------------------------------------------------------------------------\u001b[0m",
      "\u001b[1;31mKeyError\u001b[0m                                  Traceback (most recent call last)",
      "\u001b[1;32m<ipython-input-16-82e2da4f5a54>\u001b[0m in \u001b[0;36m<module>\u001b[1;34m()\u001b[0m\n\u001b[0;32m     17\u001b[0m         \u001b[1;32mcontinue\u001b[0m\u001b[1;33m\u001b[0m\u001b[0m\n\u001b[0;32m     18\u001b[0m \u001b[1;33m\u001b[0m\u001b[0m\n\u001b[1;32m---> 19\u001b[1;33m     \u001b[0mCreatePhotoOverlay\u001b[0m\u001b[1;33m(\u001b[0m\u001b[0mkml_doc\u001b[0m\u001b[1;33m,\u001b[0m \u001b[0mf\u001b[0m\u001b[1;33m,\u001b[0m \u001b[0mthe_file\u001b[0m\u001b[1;33m,\u001b[0m \u001b[0mfile_iterator\u001b[0m\u001b[1;33m)\u001b[0m\u001b[1;33m\u001b[0m\u001b[0m\n\u001b[0m\u001b[0;32m     20\u001b[0m     \u001b[0mfile_iterator\u001b[0m \u001b[1;33m+=\u001b[0m \u001b[1;36m1\u001b[0m\u001b[1;33m\u001b[0m\u001b[0m\n\u001b[0;32m     21\u001b[0m     \u001b[0mthe_file\u001b[0m\u001b[1;33m.\u001b[0m\u001b[0mclose\u001b[0m\u001b[1;33m(\u001b[0m\u001b[1;33m)\u001b[0m\u001b[1;33m\u001b[0m\u001b[0m\n",
      "\u001b[1;32m<ipython-input-14-88a31325c121>\u001b[0m in \u001b[0;36mCreatePhotoOverlay\u001b[1;34m(kml_doc, file_name, the_file, file_iterator)\u001b[0m\n\u001b[0;32m     13\u001b[0m     \u001b[0mdata\u001b[0m \u001b[1;33m=\u001b[0m \u001b[0mGetHeaders\u001b[0m\u001b[1;33m(\u001b[0m\u001b[0mthe_file\u001b[0m\u001b[1;33m)\u001b[0m\u001b[1;33m\u001b[0m\u001b[0m\n\u001b[0;32m     14\u001b[0m \u001b[1;33m\u001b[0m\u001b[0m\n\u001b[1;32m---> 15\u001b[1;33m     \u001b[0mcoords\u001b[0m \u001b[1;33m=\u001b[0m \u001b[0mGetGps\u001b[0m\u001b[1;33m(\u001b[0m\u001b[0mdata\u001b[0m\u001b[1;33m)\u001b[0m\u001b[1;33m\u001b[0m\u001b[0m\n\u001b[0m\u001b[0;32m     16\u001b[0m \u001b[1;33m\u001b[0m\u001b[0m\n\u001b[0;32m     17\u001b[0m     \u001b[1;31m# Determines the proportions of the image and uses them to set FOV.\u001b[0m\u001b[1;33m\u001b[0m\u001b[1;33m\u001b[0m\u001b[0m\n",
      "\u001b[1;32m<ipython-input-13-b905ce0209c2>\u001b[0m in \u001b[0;36mGetGps\u001b[1;34m(data)\u001b[0m\n\u001b[0;32m     53\u001b[0m     \u001b[0mA\u001b[0m \u001b[0mtuple\u001b[0m \u001b[0mrepresenting\u001b[0m \u001b[0mthe\u001b[0m \u001b[0mlatitude\u001b[0m\u001b[1;33m,\u001b[0m \u001b[0mlongitude\u001b[0m\u001b[1;33m,\u001b[0m \u001b[1;32mand\u001b[0m \u001b[0maltitude\u001b[0m \u001b[0mof\u001b[0m \u001b[0mthe\u001b[0m \u001b[0mphoto\u001b[0m\u001b[1;33m.\u001b[0m\u001b[1;33m\u001b[0m\u001b[0m\n\u001b[0;32m     54\u001b[0m     \"\"\"\n\u001b[1;32m---> 55\u001b[1;33m     \u001b[0mlat_dms\u001b[0m \u001b[1;33m=\u001b[0m \u001b[0mdata\u001b[0m\u001b[1;33m[\u001b[0m\u001b[1;34m'GPS GPSLatitude'\u001b[0m\u001b[1;33m]\u001b[0m\u001b[1;33m.\u001b[0m\u001b[0mvalues\u001b[0m\u001b[1;33m\u001b[0m\u001b[0m\n\u001b[0m\u001b[0;32m     56\u001b[0m     \u001b[0mlong_dms\u001b[0m \u001b[1;33m=\u001b[0m \u001b[0mdata\u001b[0m\u001b[1;33m[\u001b[0m\u001b[1;34m'GPS GPSLongitude'\u001b[0m\u001b[1;33m]\u001b[0m\u001b[1;33m.\u001b[0m\u001b[0mvalues\u001b[0m\u001b[1;33m\u001b[0m\u001b[0m\n\u001b[0;32m     57\u001b[0m     latitude = DmsToDecimal(lat_dms[0].num, lat_dms[0].den,\n",
      "\u001b[1;31mKeyError\u001b[0m: 'GPS GPSLatitude'"
     ]
    }
   ],
   "source": [
    "file_iterator = 1\n",
    "kml_kml, kml_doc = CreateKmlDoc(fullkmlname, kmlname)\n",
    "\n",
    "for f in filenames:\n",
    "    photo_counter += 1\n",
    "    the_file = GetFile(usr_path + '\\\\' + f)\n",
    "    if the_file is None:\n",
    "        print \"'{}' is unreadable\\n\".format(f)\n",
    "        filenames.remove(f)\n",
    "        continue\n",
    "    tdata = GetHeaders(the_file)\n",
    "    try: \n",
    "        tdata['GPS GPSLatitudeRef']\n",
    "    except KeyError:\n",
    "        print\"'{}' has no GPS GPSLatitudeRef\".format(f)\n",
    "        filenames.remove(f)\n",
    "        continue\n",
    "        \n",
    "    CreatePhotoOverlay(kml_doc, f, the_file, file_iterator)\n",
    "    file_iterator += 1\n",
    "    the_file.close()\n",
    "    \n",
    "#After all photo overlays have been written, append the doc to the outermost layer, kml_kml\n",
    "kml_kml.append(kml_doc)\n",
    "  \n",
    "fld_contents = etree.tostring(kml_kml, pretty_print=True)    \n",
    "kml_file = open(fullkmlname, 'w')\n",
    "kml_file.write(fld_contents)\n",
    "kml_file.close()\n",
    "\n",
    "\n",
    "print 'Finished writing {} photo overlays to {}.'.format(file_iterator, kmlname)"
   ]
  },
  {
   "cell_type": "code",
   "execution_count": 7,
   "metadata": {
    "collapsed": false,
    "deletable": true,
    "editable": true
   },
   "outputs": [
    {
     "ename": "SyntaxError",
     "evalue": "invalid syntax (<ipython-input-7-621d79689d14>, line 15)",
     "output_type": "error",
     "traceback": [
      "\u001b[0;36m  File \u001b[0;32m\"<ipython-input-7-621d79689d14>\"\u001b[0;36m, line \u001b[0;32m15\u001b[0m\n\u001b[0;31m    if CreateKMZ = True:\u001b[0m\n\u001b[0m                 ^\u001b[0m\n\u001b[0;31mSyntaxError\u001b[0m\u001b[0;31m:\u001b[0m invalid syntax\n"
     ]
    }
   ],
   "source": [
    "#Option to make kmz file: \n",
    "#Need to ask, make file structure, then: \n",
    "usr_kmz = raw_input(\"Make KMZ? (y/n):\")\n",
    "\n",
    "if usr_kmz == str(n):\n",
    "\tsys.exit()\n",
    "\n",
    "\n",
    "from zipfile_infolist import print_info\n",
    "import zipfile\n",
    "\n",
    "zipfile.ZipFile('Photos.kmz', mode= 'w')\n",
    "zf.write('/Images')\n",
    "\n",
    "if CreateKMZ = True:\n",
    "\tphoto_counter = 0\n",
    "\n",
    "\tfor root, dirs, filenames in os.walk(indir):\n",
    "\t\tfor f in filenames:\n",
    "\t\t\tphoto_counter += 1\n",
    "\n",
    "\t\t\tprint 'creating archive'\n",
    "\t\t\tzf = zipfile.ZipFile('zipfile_write.zip', mode='a')\n",
    "\t\t\ttry:\n",
    "\t\t\t    print 'photo #{}'.format(photo_counter)\n",
    "\t\t\t    zf.write('~/Images/{}'.format(f))\n",
    "\t\t\tfinally:\n",
    "\t\t\t    print 'closing'\n",
    "\t\t\t    zf.close()\n",
    "\n",
    "\t\t\tprint\n",
    "\t\t\tprint_info('zipfile_write.zip')"
   ]
  },
  {
   "cell_type": "code",
   "execution_count": null,
   "metadata": {
    "collapsed": true,
    "deletable": true,
    "editable": true
   },
   "outputs": [],
   "source": []
  }
 ],
 "metadata": {
  "anaconda-cloud": {},
  "kernelspec": {
   "display_name": "Python 2",
   "language": "python",
   "name": "python2"
  },
  "language_info": {
   "codemirror_mode": {
    "name": "ipython",
    "version": 2
   },
   "file_extension": ".py",
   "mimetype": "text/x-python",
   "name": "python",
   "nbconvert_exporter": "python",
   "pygments_lexer": "ipython2",
   "version": "2.7.12"
  }
 },
 "nbformat": 4,
 "nbformat_minor": 2
}
